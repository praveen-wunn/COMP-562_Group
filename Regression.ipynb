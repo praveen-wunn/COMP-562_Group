{
  "nbformat": 4,
  "nbformat_minor": 0,
  "metadata": {
    "colab": {
      "name": "Regression.ipynb",
      "provenance": [],
      "collapsed_sections": [],
      "machine_shape": "hm"
    },
    "kernelspec": {
      "name": "python3",
      "display_name": "Python 3"
    },
    "accelerator": "GPU"
  },
  "cells": [
    {
      "cell_type": "code",
      "metadata": {
        "id": "s4OGwwJTz9vo",
        "colab_type": "code",
        "outputId": "17b35405-deac-4897-e227-a142fdd2b0ae",
        "colab": {
          "base_uri": "https://localhost:8080/",
          "height": 121
        }
      },
      "source": [
        "from google.colab import drive\n",
        "drive.mount('/content/drive')"
      ],
      "execution_count": 1,
      "outputs": [
        {
          "output_type": "stream",
          "text": [
            "Go to this URL in a browser: https://accounts.google.com/o/oauth2/auth?client_id=947318989803-6bn6qk8qdgf4n4g3pfee6491hc0brc4i.apps.googleusercontent.com&redirect_uri=urn%3aietf%3awg%3aoauth%3a2.0%3aoob&response_type=code&scope=email%20https%3a%2f%2fwww.googleapis.com%2fauth%2fdocs.test%20https%3a%2f%2fwww.googleapis.com%2fauth%2fdrive%20https%3a%2f%2fwww.googleapis.com%2fauth%2fdrive.photos.readonly%20https%3a%2f%2fwww.googleapis.com%2fauth%2fpeopleapi.readonly\n",
            "\n",
            "Enter your authorization code:\n",
            "··········\n",
            "Mounted at /content/drive\n"
          ],
          "name": "stdout"
        }
      ]
    },
    {
      "cell_type": "code",
      "metadata": {
        "id": "h6QE7c-tF2xc",
        "colab_type": "code",
        "colab": {}
      },
      "source": [
        "import numpy as np\n",
        "import pandas as pd\n",
        "import datetime\n",
        "import math"
      ],
      "execution_count": 0,
      "outputs": []
    },
    {
      "cell_type": "markdown",
      "metadata": {
        "id": "ouw00umFS7UH",
        "colab_type": "text"
      },
      "source": [
        "Load in training data, merge and identify remaining null values"
      ]
    },
    {
      "cell_type": "code",
      "metadata": {
        "id": "KQwq9CYJGBUx",
        "colab_type": "code",
        "colab": {}
      },
      "source": [
        "p = lambda x: f'/content/drive/My Drive/MLfinal/{x}'\n",
        "train_df = pd.read_csv(p('train.csv'))\n",
        "weather_df = pd.read_csv(p('updated_weather.csv'))\n",
        "building_metadata_df = pd.read_csv(p('building_metadata.csv'))"
      ],
      "execution_count": 0,
      "outputs": []
    },
    {
      "cell_type": "code",
      "metadata": {
        "id": "X2qutXyjvIrH",
        "colab_type": "code",
        "colab": {}
      },
      "source": [
        "building_meter_data = train_df.merge(building_metadata_df, how = 'left', on='building_id')"
      ],
      "execution_count": 0,
      "outputs": []
    },
    {
      "cell_type": "code",
      "metadata": {
        "id": "MA6dOWj8vl1d",
        "colab_type": "code",
        "colab": {}
      },
      "source": [
        "merged_data = building_meter_data.merge(weather_df, how = 'left', on=['timestamp', 'site_id'])"
      ],
      "execution_count": 0,
      "outputs": []
    },
    {
      "cell_type": "code",
      "metadata": {
        "id": "b4NBD31NvoLf",
        "colab_type": "code",
        "outputId": "8e005f94-7712-447d-c986-fb2f1d4666c4",
        "colab": {
          "base_uri": "https://localhost:8080/",
          "height": 353
        }
      },
      "source": [
        "def print_density(data, name=\"Data\"):\n",
        "  print(f\"{name} Density:\")\n",
        "  for column in data.columns:\n",
        "    density = str(100 * (len(data) - np.sum(data[column].isnull())) / len (data))\n",
        "    print(column + ': ' + density)\n",
        "  print('\\n')\n",
        "\n",
        "print_density(merged_data, \"Training Data\")"
      ],
      "execution_count": 0,
      "outputs": [
        {
          "output_type": "stream",
          "text": [
            "Training Data Density:\n",
            "building_id: 100.0\n",
            "meter: 100.0\n",
            "timestamp: 100.0\n",
            "meter_reading: 100.0\n",
            "site_id: 100.0\n",
            "primary_use: 100.0\n",
            "square_feet: 100.0\n",
            "year_built: 40.00996730328797\n",
            "floor_count: 17.347228199306493\n",
            "air_temperature: 99.9915958073021\n",
            "dew_temperature: 99.9915958073021\n",
            "wind_direction: 99.9915958073021\n",
            "wind_speed: 99.9915958073021\n",
            "year: 99.9915958073021\n",
            "month: 99.9915958073021\n",
            "day: 99.9915958073021\n",
            "hour: 99.9915958073021\n",
            "\n",
            "\n"
          ],
          "name": "stdout"
        }
      ]
    },
    {
      "cell_type": "markdown",
      "metadata": {
        "id": "E_-EHDMS3blM",
        "colab_type": "text"
      },
      "source": [
        "Remove columns that don't have a lot of meaning for the model or are very sparse"
      ]
    },
    {
      "cell_type": "code",
      "metadata": {
        "id": "SUHshf9hARA6",
        "colab_type": "code",
        "colab": {}
      },
      "source": [
        "merged_data = merged_data.sort_values(by=['building_id', 'meter','timestamp'])"
      ],
      "execution_count": 0,
      "outputs": []
    },
    {
      "cell_type": "code",
      "metadata": {
        "id": "ytzhuS3M09IN",
        "colab_type": "code",
        "colab": {}
      },
      "source": [
        "merged_data.drop(columns=['year', 'year_built', 'floor_count', 'day', 'month'], inplace=True)"
      ],
      "execution_count": 0,
      "outputs": []
    },
    {
      "cell_type": "markdown",
      "metadata": {
        "id": "GZ-Ioyr2TF_H",
        "colab_type": "text"
      },
      "source": [
        "Add lag values"
      ]
    },
    {
      "cell_type": "code",
      "metadata": {
        "id": "RVPvdAZlB_iN",
        "colab_type": "code",
        "colab": {}
      },
      "source": [
        "merged_data[\"timestamp\"] = [datetime.datetime.strptime(time_stamp, '%Y-%m-%d %H:%M:%S') for time_stamp in merged_data[\"timestamp\"]]"
      ],
      "execution_count": 0,
      "outputs": []
    },
    {
      "cell_type": "code",
      "metadata": {
        "id": "vihYroeYAlzM",
        "colab_type": "code",
        "colab": {}
      },
      "source": [
        "# merged_data['timestamp_new'] = merged_data['timestamp'] + np.timedelta64(-1, 'h')\n",
        "# merged_data['timestamp_2'] = merged_data['timestamp'] + np.timedelta64(-2, 'h')\n",
        "merged_data['timestamp_3'] = merged_data['timestamp'] + np.timedelta64(-3, 'h')"
      ],
      "execution_count": 0,
      "outputs": []
    },
    {
      "cell_type": "code",
      "metadata": {
        "id": "DOMjEKneDFOW",
        "colab_type": "code",
        "colab": {}
      },
      "source": [
        "merged_data_2 = merged_data.merge(merged_data[['building_id','timestamp','site_id','meter','air_temperature', 'dew_temperature', 'wind_speed', 'wind_direction']], how = 'left', \n",
        "                                   left_on=['building_id','timestamp_3', 'site_id','meter'], \n",
        "                                   right_on=['building_id','timestamp', 'site_id','meter'],suffixes=('','_3'))"
      ],
      "execution_count": 0,
      "outputs": []
    },
    {
      "cell_type": "code",
      "metadata": {
        "id": "gr4ABO0t9NT6",
        "colab_type": "code",
        "colab": {}
      },
      "source": [
        "# merged_data_2 = merged_data.merge(merged_data[['building_id','timestamp','site_id','meter','air_temperature', 'dew_temperature', 'wind_speed', 'wind_direction']], how = 'left', \n",
        "#                                    left_on=['building_id','timestamp_new', 'site_id','meter'], \n",
        "#                                    right_on=['building_id','timestamp', 'site_id','meter'],suffixes=('','_1')).merge(merged_data[['building_id','timestamp','site_id','meter','air_temperature', 'dew_temperature', 'wind_speed', 'wind_direction']], how = 'left', \n",
        "#                                    left_on=['building_id','timestamp_2', 'site_id','meter'], \n",
        "#                                    right_on=['building_id','timestamp', 'site_id','meter'],suffixes=('','_2')).merge(merged_data[['building_id','timestamp','site_id','meter','air_temperature', 'dew_temperature', 'wind_speed', 'wind_direction']], how = 'left', \n",
        "#                                    left_on=['building_id','timestamp_3', 'site_id','meter'], \n",
        "#                                    right_on=['building_id','timestamp', 'site_id','meter'],suffixes=('','_3'))"
      ],
      "execution_count": 0,
      "outputs": []
    },
    {
      "cell_type": "markdown",
      "metadata": {
        "id": "aYBckHEPwNHR",
        "colab_type": "text"
      },
      "source": [
        "Not a great way to estimate floor count or year built\n",
        "\n",
        "*Try three approaches: leave null values; set to -999, remove columns*\n"
      ]
    },
    {
      "cell_type": "code",
      "metadata": {
        "id": "8BpPIUdxv1oD",
        "colab_type": "code",
        "outputId": "c4d656cd-4bfd-4cea-dc21-b07d881b5707",
        "colab": {
          "base_uri": "https://localhost:8080/",
          "height": 62
        }
      },
      "source": [
        "import seaborn as sns\n",
        "import tensorflow as tf\n",
        "\n",
        "from tensorflow import keras\n",
        "from tensorflow.keras import layers"
      ],
      "execution_count": 0,
      "outputs": [
        {
          "output_type": "display_data",
          "data": {
            "text/html": [
              "<p style=\"color: red;\">\n",
              "The default version of TensorFlow in Colab will soon switch to TensorFlow 2.x.<br>\n",
              "We recommend you <a href=\"https://www.tensorflow.org/guide/migrate\" target=\"_blank\">upgrade</a> now \n",
              "or ensure your notebook will continue to use TensorFlow 1.x via the <code>%tensorflow_version 1.x</code> magic:\n",
              "<a href=\"https://colab.research.google.com/notebooks/tensorflow_version.ipynb\" target=\"_blank\">more info</a>.</p>\n"
            ],
            "text/plain": [
              "<IPython.core.display.HTML object>"
            ]
          },
          "metadata": {
            "tags": []
          }
        }
      ]
    },
    {
      "cell_type": "markdown",
      "metadata": {
        "id": "lgugk_3XTJyK",
        "colab_type": "text"
      },
      "source": [
        "One-Hot Encode Categorical Attributes"
      ]
    },
    {
      "cell_type": "code",
      "metadata": {
        "id": "dm3Y2bo3pOg5",
        "colab_type": "code",
        "colab": {}
      },
      "source": [
        "daymap = {0: 'Monday', 1: 'Tuesday', 2: 'Wednesday', 3 : 'Thursday',4: 'Friday',5: 'Saturday', 6: 'Sunday'}\n",
        "merged_data_2[\"weekday\"] = merged_data_2['timestamp'].map(lambda timestamp: daymap[timestamp.weekday()]) "
      ],
      "execution_count": 0,
      "outputs": []
    },
    {
      "cell_type": "code",
      "metadata": {
        "id": "BKE0kXUJ2Zyg",
        "colab_type": "code",
        "colab": {}
      },
      "source": [
        "monthmap = {1: 'January', 2:'February', 3:'March', 4:'April', 5:'May', 6:'June', 7:'July', 8:'August', 9:'September', 10:'October', 11:'November', 12:'December'}\n",
        "merged_data_2[\"weekday\"] = merged_data_2['timestamp'].map(lambda timestamp: monthmap[timestamp.month]) "
      ],
      "execution_count": 0,
      "outputs": []
    },
    {
      "cell_type": "code",
      "metadata": {
        "id": "9E2lmyAJK_15",
        "colab_type": "code",
        "colab": {}
      },
      "source": [
        "merged_data_2.drop(columns=['wind_direction', 'wind_direction_3', 'dew_temperature', 'dew_temperature_3', 'site_id', 'timestamp_3', 'timestamp', 'building_id'], inplace=True)"
      ],
      "execution_count": 0,
      "outputs": []
    },
    {
      "cell_type": "code",
      "metadata": {
        "id": "vGFt-cUx3SdY",
        "colab_type": "code",
        "colab": {}
      },
      "source": [
        "merged_data_2['temperature_adjusted'] = merged_data_2['air_temperature'].map(lambda x: np.sqrt((x - 21)**2))"
      ],
      "execution_count": 0,
      "outputs": []
    },
    {
      "cell_type": "code",
      "metadata": {
        "id": "3oGMHPlT8Hma",
        "colab_type": "code",
        "colab": {}
      },
      "source": [
        "merged_data_2[\"meter\"] = merged_data_2.meter.astype('category')"
      ],
      "execution_count": 0,
      "outputs": []
    },
    {
      "cell_type": "code",
      "metadata": {
        "id": "943wg5-Xqk0F",
        "colab_type": "code",
        "colab": {}
      },
      "source": [
        "merged_data_2 = pd.get_dummies(merged_data_2, prefix='', prefix_sep='')"
      ],
      "execution_count": 0,
      "outputs": []
    },
    {
      "cell_type": "markdown",
      "metadata": {
        "id": "1aS4gX2s0Pel",
        "colab_type": "text"
      },
      "source": [
        "Look at column relationships"
      ]
    },
    {
      "cell_type": "code",
      "metadata": {
        "id": "J0TxSLGD-ydk",
        "colab_type": "code",
        "colab": {}
      },
      "source": [
        "import matplotlib.pyplot as plt"
      ],
      "execution_count": 0,
      "outputs": []
    },
    {
      "cell_type": "markdown",
      "metadata": {
        "id": "zrfJz0sNTO0-",
        "colab_type": "text"
      },
      "source": [
        "Pre-one-hot encoding"
      ]
    },
    {
      "cell_type": "code",
      "metadata": {
        "id": "0IKrso2JzG01",
        "colab_type": "code",
        "outputId": "0e390576-7efd-42bb-e1bc-52a01063f9cf",
        "colab": {
          "base_uri": "https://localhost:8080/",
          "height": 794
        }
      },
      "source": [
        "# corr_mat = merged_data_2.corr() \n",
        "# fig, ax = plt.subplots(figsize=(20, 12)) \n",
        "# sns.heatmap(corr_mat, vmax=1.0, square=True, ax=ax);"
      ],
      "execution_count": 0,
      "outputs": [
        {
          "output_type": "display_data",
          "data": {
            "image/png": "[encoded data removed]",
            "text/plain": [
              "<Figure size 1440x864 with 2 Axes>"
            ]
          },
          "metadata": {
            "tags": []
          }
        }
      ]
    },
    {
      "cell_type": "markdown",
      "metadata": {
        "id": "LrTI7jjHuK1R",
        "colab_type": "text"
      },
      "source": [
        "With one-hot encoding:"
      ]
    },
    {
      "cell_type": "code",
      "metadata": {
        "id": "cVznVUQkuHG3",
        "colab_type": "code",
        "outputId": "adab0c27-fab0-4147-dad3-3d0cbd635ce4",
        "colab": {
          "base_uri": "https://localhost:8080/",
          "height": 846
        }
      },
      "source": [
        "corr_mat = merged_data_2.corr() \n",
        "fig, ax = plt.subplots(figsize=(20, 12)) \n",
        "sns.heatmap(corr_mat, vmax=1.0, square=True, ax=ax);"
      ],
      "execution_count": 0,
      "outputs": [
        {
          "output_type": "display_data",
          "data": {
            "image/png": "[encoded data removed]",
            "text/plain": [
              "<Figure size 1440x864 with 2 Axes>"
            ]
          },
          "metadata": {
            "tags": []
          }
        }
      ]
    },
    {
      "cell_type": "code",
      "metadata": {
        "id": "AUZ6KpLB_dOB",
        "colab_type": "code",
        "outputId": "b2326ed3-d101-46d3-aad6-64f1553be808",
        "colab": {
          "base_uri": "https://localhost:8080/",
          "height": 823
        }
      },
      "source": [
        "corr_mat.meter_reading.sort_values()"
      ],
      "execution_count": 0,
      "outputs": [
        {
          "output_type": "execute_result",
          "data": {
            "text/plain": [
              "month                           -0.006681\n",
              "Office                          -0.005471\n",
              "air_temperature_3               -0.004212\n",
              "air_temperature_2               -0.004173\n",
              "air_temperature_1               -0.004134\n",
              "Lodging/residential             -0.004133\n",
              "air_temperature                 -0.004099\n",
              "Entertainment/public assembly   -0.003809\n",
              "Public services                 -0.003573\n",
              "dew_temperature_3               -0.003329\n",
              "dew_temperature_2               -0.003318\n",
              "dew_temperature_1               -0.003311\n",
              "dew_temperature                 -0.003309\n",
              "Other                           -0.001422\n",
              "Parking                         -0.001314\n",
              "Healthcare                      -0.001276\n",
              "Warehouse/storage               -0.001004\n",
              "Retail                          -0.000966\n",
              "Manufacturing/industrial        -0.000945\n",
              "Food sales and service          -0.000891\n",
              "Technology/science              -0.000802\n",
              "Sunday                          -0.000786\n",
              "Saturday                        -0.000676\n",
              "Utility                         -0.000553\n",
              "Religious worship               -0.000552\n",
              "Monday                          -0.000396\n",
              "day                             -0.000042\n",
              "wind_direction_3                -0.000040\n",
              "wind_direction_2                -0.000031\n",
              "wind_direction_1                 0.000004\n",
              "wind_direction                   0.000051\n",
              "Friday                           0.000092\n",
              "Thursday                         0.000388\n",
              "Tuesday                          0.000400\n",
              "hour                             0.000606\n",
              "Services                         0.000902\n",
              "Wednesday                        0.000980\n",
              "wind_speed_3                     0.005840\n",
              "wind_speed_2                     0.005922\n",
              "wind_speed_1                     0.006013\n",
              "wind_speed                       0.006064\n",
              "building_id                      0.008761\n",
              "site_id                          0.011897\n",
              "Education                        0.013258\n",
              "meter                            0.017672\n",
              "square_feet                      0.024308\n",
              "meter_reading                    1.000000\n",
              "Name: meter_reading, dtype: float64"
            ]
          },
          "metadata": {
            "tags": []
          },
          "execution_count": 17
        }
      ]
    },
    {
      "cell_type": "markdown",
      "metadata": {
        "id": "jj2KC76XTVsi",
        "colab_type": "text"
      },
      "source": [
        "Take every 3 rows as test data (to ensure both training and test have all buildings and full range of timestamps)"
      ]
    },
    {
      "cell_type": "code",
      "metadata": {
        "id": "qUbmgBmHzEuJ",
        "colab_type": "code",
        "outputId": "8ca74c7a-3b8a-4a2f-edc1-44cd19888e2f",
        "colab": {
          "base_uri": "https://localhost:8080/",
          "height": 34
        }
      },
      "source": [
        "data = merged_data_2.iloc[3:].copy()\n",
        "test = data.iloc[::3, :]\n",
        "print(test.shape)\n"
      ],
      "execution_count": 0,
      "outputs": [
        {
          "output_type": "stream",
          "text": [
            "(6738699, 40)\n"
          ],
          "name": "stdout"
        }
      ]
    },
    {
      "cell_type": "code",
      "metadata": {
        "id": "ttPmkY0l55-6",
        "colab_type": "code",
        "colab": {}
      },
      "source": [
        "train = data[np.mod(np.arange(data.index.size),3) != 0]"
      ],
      "execution_count": 0,
      "outputs": []
    },
    {
      "cell_type": "markdown",
      "metadata": {
        "id": "fTI4cB0F4zCK",
        "colab_type": "text"
      },
      "source": [
        "Dew temp and air temp correlated; choose air temp\n",
        "\n",
        "same with windspeed and wind direction, keep wind direction\n",
        "\n",
        "keep current and lag 3"
      ]
    },
    {
      "cell_type": "code",
      "metadata": {
        "id": "E3_nE7E6VFWk",
        "colab_type": "code",
        "outputId": "8f3b4485-524c-4af6-e42e-b48ee468cbb3",
        "colab": {
          "base_uri": "https://localhost:8080/",
          "height": 62
        }
      },
      "source": [
        "import numpy as np\n",
        "import pandas as pd\n",
        "import datetime\n",
        "import math\n",
        "\n",
        "import seaborn as sns\n",
        "import tensorflow as tf\n",
        "\n",
        "from tensorflow import keras\n",
        "from tensorflow.keras import layers\n",
        "\n",
        "import matplotlib.pyplot as plt"
      ],
      "execution_count": 2,
      "outputs": [
        {
          "output_type": "display_data",
          "data": {
            "text/html": [
              "<p style=\"color: red;\">\n",
              "The default version of TensorFlow in Colab will soon switch to TensorFlow 2.x.<br>\n",
              "We recommend you <a href=\"https://www.tensorflow.org/guide/migrate\" target=\"_blank\">upgrade</a> now \n",
              "or ensure your notebook will continue to use TensorFlow 1.x via the <code>%tensorflow_version 1.x</code> magic:\n",
              "<a href=\"https://colab.research.google.com/notebooks/tensorflow_version.ipynb\" target=\"_blank\">more info</a>.</p>\n"
            ],
            "text/plain": [
              "<IPython.core.display.HTML object>"
            ]
          },
          "metadata": {
            "tags": []
          }
        }
      ]
    },
    {
      "cell_type": "code",
      "metadata": {
        "id": "LqpKQqppUc_x",
        "colab_type": "code",
        "colab": {}
      },
      "source": [
        "p = lambda x: f'/content/drive/My Drive/MLfinal/{x}'\n",
        "train = pd.read_csv(p('updated_train.csv'))\n",
        "test = pd.read_csv(p('updated_test.csv'))\n"
      ],
      "execution_count": 0,
      "outputs": []
    },
    {
      "cell_type": "code",
      "metadata": {
        "id": "RMe_ksbGYKy8",
        "colab_type": "code",
        "colab": {}
      },
      "source": [
        "train.dropna(inplace=True)"
      ],
      "execution_count": 0,
      "outputs": []
    },
    {
      "cell_type": "code",
      "metadata": {
        "id": "JmP5s6gcFFyx",
        "colab_type": "code",
        "colab": {}
      },
      "source": [
        "test.dropna(inplace=True)"
      ],
      "execution_count": 0,
      "outputs": []
    },
    {
      "cell_type": "code",
      "metadata": {
        "id": "j9CpYBXxX91x",
        "colab_type": "code",
        "colab": {}
      },
      "source": [
        "train_labels = train.meter_reading\n",
        "test_labels = test.meter_reading"
      ],
      "execution_count": 0,
      "outputs": []
    },
    {
      "cell_type": "code",
      "metadata": {
        "id": "ZGcoqEj1OGEb",
        "colab_type": "code",
        "colab": {}
      },
      "source": [
        "train_dataset = train.drop(columns=['meter_reading'])\n",
        "test_data = test.drop(columns = ['meter_reading'])"
      ],
      "execution_count": 0,
      "outputs": []
    },
    {
      "cell_type": "markdown",
      "metadata": {
        "id": "VqoclxBNFWKp",
        "colab_type": "text"
      },
      "source": [
        "Use non-normalized data for linear regression (normalized is too computationally heavy and won't store on drive)"
      ]
    },
    {
      "cell_type": "code",
      "metadata": {
        "id": "h9yTEGc6VoLF",
        "colab_type": "code",
        "colab": {}
      },
      "source": [
        "# train_means = train_dataset.mean(axis = 0)\n",
        "# train_std = train_dataset.std(axis = 0)"
      ],
      "execution_count": 0,
      "outputs": []
    },
    {
      "cell_type": "code",
      "metadata": {
        "id": "AtUBdVBOSfuH",
        "colab_type": "code",
        "colab": {}
      },
      "source": [
        "# train_stats = train_dataset.describe()\n",
        "# train_stats = train_stats.transpose()"
      ],
      "execution_count": 0,
      "outputs": []
    },
    {
      "cell_type": "code",
      "metadata": {
        "id": "ArwEu8NTR6IC",
        "colab_type": "code",
        "colab": {}
      },
      "source": [
        "# normalize data\n",
        "def norm(x):\n",
        "  return (x - train_means) / train_std"
      ],
      "execution_count": 0,
      "outputs": []
    },
    {
      "cell_type": "code",
      "metadata": {
        "id": "ZsqGqju1ag_W",
        "colab_type": "code",
        "colab": {}
      },
      "source": [
        "# first = norm(train_dataset.iloc[:6738699,])\n",
        "# second = norm(train_dataset.iloc[6738699:,])"
      ],
      "execution_count": 0,
      "outputs": []
    },
    {
      "cell_type": "code",
      "metadata": {
        "id": "w8tu2s8xO7K_",
        "colab_type": "code",
        "colab": {}
      },
      "source": [
        "# normed_train_data = pd.concat([first, second])\n",
        "# normed_test_data = norm(test_data)"
      ],
      "execution_count": 0,
      "outputs": []
    },
    {
      "cell_type": "code",
      "metadata": {
        "id": "W8qQF24OSUai",
        "colab_type": "code",
        "colab": {}
      },
      "source": [
        "def build_model():\n",
        "  model = keras.Sequential([\n",
        "    layers.Dense(64, activation='linear', input_shape=[len(train_dataset.keys())]),\n",
        "    layers.Dense(64, activation='linear'),\n",
        "    layers.Dense(1)\n",
        "  ])\n",
        "\n",
        "  optimizer = tf.keras.optimizers.RMSprop(0.001)\n",
        "\n",
        "  model.compile(loss='mse',\n",
        "                optimizer=optimizer,\n",
        "                metrics=['mae', 'mse'])\n",
        "  return model"
      ],
      "execution_count": 0,
      "outputs": []
    },
    {
      "cell_type": "code",
      "metadata": {
        "id": "8PvNhIAaTea2",
        "colab_type": "code",
        "outputId": "11acb5a9-5d3a-474a-9680-0adfce3503f6",
        "colab": {
          "base_uri": "https://localhost:8080/",
          "height": 87
        }
      },
      "source": [
        "model = build_model()"
      ],
      "execution_count": 9,
      "outputs": [
        {
          "output_type": "stream",
          "text": [
            "WARNING:tensorflow:From /usr/local/lib/python3.6/dist-packages/tensorflow_core/python/ops/resource_variable_ops.py:1630: calling BaseResourceVariable.__init__ (from tensorflow.python.ops.resource_variable_ops) with constraint is deprecated and will be removed in a future version.\n",
            "Instructions for updating:\n",
            "If using Keras pass *_constraint arguments to layers.\n"
          ],
          "name": "stdout"
        }
      ]
    },
    {
      "cell_type": "code",
      "metadata": {
        "id": "fSjguevoYUwK",
        "colab_type": "code",
        "outputId": "adae0999-c1c2-48c9-8452-66eb2102b1c1",
        "colab": {
          "base_uri": "https://localhost:8080/",
          "height": 252
        }
      },
      "source": [
        "model.summary()"
      ],
      "execution_count": 10,
      "outputs": [
        {
          "output_type": "stream",
          "text": [
            "Model: \"sequential\"\n",
            "_________________________________________________________________\n",
            "Layer (type)                 Output Shape              Param #   \n",
            "=================================================================\n",
            "dense (Dense)                (None, 64)                2560      \n",
            "_________________________________________________________________\n",
            "dense_1 (Dense)              (None, 64)                4160      \n",
            "_________________________________________________________________\n",
            "dense_2 (Dense)              (None, 1)                 65        \n",
            "=================================================================\n",
            "Total params: 6,785\n",
            "Trainable params: 6,785\n",
            "Non-trainable params: 0\n",
            "_________________________________________________________________\n"
          ],
          "name": "stdout"
        }
      ]
    },
    {
      "cell_type": "code",
      "metadata": {
        "id": "FMXGEk13YXu4",
        "colab_type": "code",
        "outputId": "43d0ca49-f7a3-41e0-ad11-1e9ed5e74d60",
        "colab": {
          "base_uri": "https://localhost:8080/",
          "height": 185
        }
      },
      "source": [
        "example_batch = train_dataset[:10]\n",
        "example_result = model.predict(example_batch)\n",
        "example_result"
      ],
      "execution_count": 11,
      "outputs": [
        {
          "output_type": "execute_result",
          "data": {
            "text/plain": [
              "array([[164.47627],\n",
              "       [164.88339],\n",
              "       [164.90167],\n",
              "       [165.0588 ],\n",
              "       [164.87563],\n",
              "       [164.86327],\n",
              "       [164.76938],\n",
              "       [164.67812],\n",
              "       [163.61064],\n",
              "       [163.42659]], dtype=float32)"
            ]
          },
          "metadata": {
            "tags": []
          },
          "execution_count": 11
        }
      ]
    },
    {
      "cell_type": "code",
      "metadata": {
        "id": "1lCkwujvobcG",
        "colab_type": "code",
        "outputId": "1c26796a-124a-4d64-f69c-9fecd5b07fb8",
        "colab": {
          "base_uri": "https://localhost:8080/",
          "height": 286
        }
      },
      "source": [
        "pip install git+https://github.com/tensorflow/docs"
      ],
      "execution_count": 13,
      "outputs": [
        {
          "output_type": "stream",
          "text": [
            "Collecting git+https://github.com/tensorflow/docs\n",
            "  Cloning https://github.com/tensorflow/docs to /tmp/pip-req-build-vobc9y4u\n",
            "  Running command git clone -q https://github.com/tensorflow/docs /tmp/pip-req-build-vobc9y4u\n",
            "Requirement already satisfied: astor in /usr/local/lib/python3.6/dist-packages (from tensorflow-docs==0.0.0) (0.8.0)\n",
            "Requirement already satisfied: absl-py in /usr/local/lib/python3.6/dist-packages (from tensorflow-docs==0.0.0) (0.8.1)\n",
            "Requirement already satisfied: six in /usr/local/lib/python3.6/dist-packages (from tensorflow-docs==0.0.0) (1.12.0)\n",
            "Collecting pathlib2\n",
            "  Downloading https://files.pythonhosted.org/packages/e9/45/9c82d3666af4ef9f221cbb954e1d77ddbb513faf552aea6df5f37f1a4859/pathlib2-2.3.5-py2.py3-none-any.whl\n",
            "Requirement already satisfied: pyyaml in /usr/local/lib/python3.6/dist-packages (from tensorflow-docs==0.0.0) (3.13)\n",
            "Building wheels for collected packages: tensorflow-docs\n",
            "  Building wheel for tensorflow-docs (setup.py) ... \u001b[?25l\u001b[?25hdone\n",
            "  Created wheel for tensorflow-docs: filename=tensorflow_docs-0.0.0-cp36-none-any.whl size=80507 sha256=264b79fdc70d786603d372848e79bb2b7931d0f3af8ec14e8be65070207c1fcd\n",
            "  Stored in directory: /tmp/pip-ephem-wheel-cache-s1c07gwh/wheels/eb/1b/35/fce87697be00d2fc63e0b4b395b0d9c7e391a10e98d9a0d97f\n",
            "Successfully built tensorflow-docs\n",
            "Installing collected packages: pathlib2, tensorflow-docs\n",
            "Successfully installed pathlib2-2.3.5 tensorflow-docs-0.0.0\n"
          ],
          "name": "stdout"
        }
      ]
    },
    {
      "cell_type": "code",
      "metadata": {
        "id": "l9cRKSEiMIcC",
        "colab_type": "code",
        "colab": {}
      },
      "source": [
        "import tensorflow_docs as tfdocs\n",
        "import tensorflow_docs.plots\n",
        "import tensorflow_docs.modeling"
      ],
      "execution_count": 0,
      "outputs": []
    },
    {
      "cell_type": "markdown",
      "metadata": {
        "id": "gUT067bOTm7f",
        "colab_type": "text"
      },
      "source": [
        "First Attempt"
      ]
    },
    {
      "cell_type": "code",
      "metadata": {
        "id": "5tFEt46nYqeB",
        "colab_type": "code",
        "outputId": "1f0b07db-4f80-4bd3-ddf5-31988932047f",
        "colab": {
          "base_uri": "https://localhost:8080/",
          "height": 87
        }
      },
      "source": [
        "EPOCHS = 8\n",
        "\n",
        "# The patience parameter is the amount of epochs to check for improvement\n",
        "early_stop = keras.callbacks.EarlyStopping(monitor='val_loss', patience=10)\n",
        "\n",
        "early_history = model.fit(normed_train_data, train_labels, \n",
        "                    epochs=EPOCHS, validation_split = 0.2, verbose=0, \n",
        "                    callbacks=[early_stop, tfdocs.modeling.EpochDots()])"
      ],
      "execution_count": 0,
      "outputs": [
        {
          "output_type": "stream",
          "text": [
            "\n",
            "Epoch: 0, loss:29363546199.0593,  mean_absolute_error:2633.5088,  mean_squared_error:29360125952.0000,  val_loss:1874720.0834,  val_mean_absolute_error:552.7137,  val_mean_squared_error:1874723.1250,  \n",
            "........"
          ],
          "name": "stdout"
        }
      ]
    },
    {
      "cell_type": "code",
      "metadata": {
        "id": "puggRbgAHrqe",
        "colab_type": "code",
        "outputId": "3e699677-b112-419f-e881-fc7a7f2420a5",
        "colab": {
          "base_uri": "https://localhost:8080/",
          "height": 195
        }
      },
      "source": [
        "hist = pd.DataFrame(early_history.history)\n",
        "hist['epoch'] = early_history.epoch\n",
        "hist.tail()"
      ],
      "execution_count": 0,
      "outputs": [
        {
          "output_type": "execute_result",
          "data": {
            "text/html": [
              "<div>\n",
              "<style scoped>\n",
              "    .dataframe tbody tr th:only-of-type {\n",
              "        vertical-align: middle;\n",
              "    }\n",
              "\n",
              "    .dataframe tbody tr th {\n",
              "        vertical-align: top;\n",
              "    }\n",
              "\n",
              "    .dataframe thead th {\n",
              "        text-align: right;\n",
              "    }\n",
              "</style>\n",
              "<table border=\"1\" class=\"dataframe\">\n",
              "  <thead>\n",
              "    <tr style=\"text-align: right;\">\n",
              "      <th></th>\n",
              "      <th>loss</th>\n",
              "      <th>mean_absolute_error</th>\n",
              "      <th>mean_squared_error</th>\n",
              "      <th>val_loss</th>\n",
              "      <th>val_mean_absolute_error</th>\n",
              "      <th>val_mean_squared_error</th>\n",
              "      <th>epoch</th>\n",
              "    </tr>\n",
              "  </thead>\n",
              "  <tbody>\n",
              "    <tr>\n",
              "      <th>3</th>\n",
              "      <td>2.936351e+10</td>\n",
              "      <td>2637.043457</td>\n",
              "      <td>2.936008e+10</td>\n",
              "      <td>1.881114e+06</td>\n",
              "      <td>543.701660</td>\n",
              "      <td>1881116.750</td>\n",
              "      <td>3</td>\n",
              "    </tr>\n",
              "    <tr>\n",
              "      <th>4</th>\n",
              "      <td>2.936351e+10</td>\n",
              "      <td>2636.735352</td>\n",
              "      <td>2.936001e+10</td>\n",
              "      <td>1.875722e+06</td>\n",
              "      <td>551.187927</td>\n",
              "      <td>1875717.250</td>\n",
              "      <td>4</td>\n",
              "    </tr>\n",
              "    <tr>\n",
              "      <th>5</th>\n",
              "      <td>2.936350e+10</td>\n",
              "      <td>2637.472168</td>\n",
              "      <td>2.935997e+10</td>\n",
              "      <td>1.872441e+06</td>\n",
              "      <td>556.401123</td>\n",
              "      <td>1872435.125</td>\n",
              "      <td>5</td>\n",
              "    </tr>\n",
              "    <tr>\n",
              "      <th>6</th>\n",
              "      <td>2.936351e+10</td>\n",
              "      <td>2636.864258</td>\n",
              "      <td>2.935991e+10</td>\n",
              "      <td>1.876469e+06</td>\n",
              "      <td>550.078918</td>\n",
              "      <td>1876465.625</td>\n",
              "      <td>6</td>\n",
              "    </tr>\n",
              "    <tr>\n",
              "      <th>7</th>\n",
              "      <td>2.936350e+10</td>\n",
              "      <td>2637.421387</td>\n",
              "      <td>2.936014e+10</td>\n",
              "      <td>1.872392e+06</td>\n",
              "      <td>556.485168</td>\n",
              "      <td>1872381.375</td>\n",
              "      <td>7</td>\n",
              "    </tr>\n",
              "  </tbody>\n",
              "</table>\n",
              "</div>"
            ],
            "text/plain": [
              "           loss  mean_absolute_error  ...  val_mean_squared_error  epoch\n",
              "3  2.936351e+10          2637.043457  ...             1881116.750      3\n",
              "4  2.936351e+10          2636.735352  ...             1875717.250      4\n",
              "5  2.936350e+10          2637.472168  ...             1872435.125      5\n",
              "6  2.936351e+10          2636.864258  ...             1876465.625      6\n",
              "7  2.936350e+10          2637.421387  ...             1872381.375      7\n",
              "\n",
              "[5 rows x 7 columns]"
            ]
          },
          "metadata": {
            "tags": []
          },
          "execution_count": 35
        }
      ]
    },
    {
      "cell_type": "code",
      "metadata": {
        "id": "oVyqIkZuHYAX",
        "colab_type": "code",
        "colab": {}
      },
      "source": [
        "plotter = tfdocs.plots.HistoryPlotter(smoothing_std=2)"
      ],
      "execution_count": 0,
      "outputs": []
    },
    {
      "cell_type": "code",
      "metadata": {
        "id": "Ft1NRO_mZHh_",
        "colab_type": "code",
        "outputId": "76544300-7191-44ba-8686-fb6cd976cf82",
        "colab": {
          "base_uri": "https://localhost:8080/",
          "height": 50
        }
      },
      "source": [
        "loss, mae, mse = model.evaluate(normed_test_data, test_labels, verbose=2)\n",
        "\n",
        "print(\"Testing set Mean Abs Error: {:5.2f} MPG\".format(mae))"
      ],
      "execution_count": 0,
      "outputs": [
        {
          "output_type": "stream",
          "text": [
            "6738699/6738699 - 308s - loss: 23470041427.2198 - mean_absolute_error: 2223.2319 - mean_squared_error: 23469461504.0000\n",
            "Testing set Mean Abs Error: 2223.23 MPG\n"
          ],
          "name": "stdout"
        }
      ]
    },
    {
      "cell_type": "code",
      "metadata": {
        "id": "xZnPVpIhHaSp",
        "colab_type": "code",
        "colab": {}
      },
      "source": [
        "test_predictions = model.predict(normed_test_data).flatten()"
      ],
      "execution_count": 0,
      "outputs": []
    },
    {
      "cell_type": "code",
      "metadata": {
        "id": "rBhBLOHDLqoP",
        "colab_type": "code",
        "outputId": "64762158-cdef-43f9-a335-ba04c439e5ea",
        "colab": {
          "base_uri": "https://localhost:8080/",
          "height": 283
        }
      },
      "source": [
        "a = plt.axes(aspect='equal')\n",
        "plt.scatter(test_labels, test_predictions)\n",
        "plt.xlabel('True Values [MPG]')\n",
        "plt.ylabel('Predictions [MPG]')\n",
        "lims = [200, 500]\n",
        "plt.xlim(lims)\n",
        "plt.ylim(lims)\n",
        "_ = plt.plot(lims, lims)"
      ],
      "execution_count": 0,
      "outputs": [
        {
          "output_type": "display_data",
          "data": {
            "image/png": "[encoded data removed]",
            "text/plain": [
              "<Figure size 432x288 with 1 Axes>"
            ]
          },
          "metadata": {
            "tags": []
          }
        }
      ]
    },
    {
      "cell_type": "code",
      "metadata": {
        "id": "YlindMgqOITo",
        "colab_type": "code",
        "outputId": "2a63d958-9f19-4ccf-d683-7c2dc2c5173e",
        "colab": {
          "base_uri": "https://localhost:8080/",
          "height": 281
        }
      },
      "source": [
        "error = test_predictions - test_labels\n",
        "plt.hist(error, bins = 25)\n",
        "plt.xlabel(\"Prediction Error [MPG]\")\n",
        "_ = plt.ylabel(\"Count\")"
      ],
      "execution_count": 0,
      "outputs": [
        {
          "output_type": "display_data",
          "data": {
            "image/png": "[encoded data removed]",
            "text/plain": [
              "<Figure size 432x288 with 1 Axes>"
            ]
          },
          "metadata": {
            "tags": []
          }
        }
      ]
    },
    {
      "cell_type": "markdown",
      "metadata": {
        "id": "aHI4dDEUQMUT",
        "colab_type": "text"
      },
      "source": [
        "Second Attempt"
      ]
    },
    {
      "cell_type": "markdown",
      "metadata": {
        "id": "Aw7kVxF8NxQc",
        "colab_type": "text"
      },
      "source": [
        "non-normalized data bc null values and linear regression it might not matter: https://stats.stackexchange.com/questions/189652/is-it-a-good-practice-to-always-scale-normalize-data-for-machine-learning"
      ]
    },
    {
      "cell_type": "code",
      "metadata": {
        "id": "AXN9cxxuOnY0",
        "colab_type": "code",
        "outputId": "8dc5b213-ddfe-4ad8-d692-64f06a0c3a30",
        "colab": {
          "base_uri": "https://localhost:8080/",
          "height": 87
        }
      },
      "source": [
        "EPOCHS = 12\n",
        "\n",
        "# The patience parameter is the amount of epochs to check for improvement\n",
        "early_stop = keras.callbacks.EarlyStopping(monitor='val_loss', patience=10)\n",
        "\n",
        "early_history = model.fit(train_dataset, train_labels, \n",
        "                    epochs=EPOCHS, validation_split = 0.2, verbose=0, \n",
        "                    callbacks=[early_stop, tfdocs.modeling.EpochDots()])"
      ],
      "execution_count": 16,
      "outputs": [
        {
          "output_type": "stream",
          "text": [
            "\n",
            "Epoch: 0, loss:29416385546.4782,  mean_absolute_error:2763.4272,  mean_squared_error:29412864000.0000,  val_loss:1565990.6122,  val_mean_absolute_error:589.9000,  val_mean_squared_error:1565988.7500,  \n",
            "............"
          ],
          "name": "stdout"
        }
      ]
    },
    {
      "cell_type": "code",
      "metadata": {
        "id": "qGGq0DBuZOP3",
        "colab_type": "code",
        "outputId": "c298563c-7f27-47f7-a890-2b2144e0ac3e",
        "colab": {
          "base_uri": "https://localhost:8080/",
          "height": 195
        }
      },
      "source": [
        "hist = pd.DataFrame(early_history.history)\n",
        "hist['epoch'] = early_history.epoch\n",
        "hist.tail()"
      ],
      "execution_count": 17,
      "outputs": [
        {
          "output_type": "execute_result",
          "data": {
            "text/html": [
              "<div>\n",
              "<style scoped>\n",
              "    .dataframe tbody tr th:only-of-type {\n",
              "        vertical-align: middle;\n",
              "    }\n",
              "\n",
              "    .dataframe tbody tr th {\n",
              "        vertical-align: top;\n",
              "    }\n",
              "\n",
              "    .dataframe thead th {\n",
              "        text-align: right;\n",
              "    }\n",
              "</style>\n",
              "<table border=\"1\" class=\"dataframe\">\n",
              "  <thead>\n",
              "    <tr style=\"text-align: right;\">\n",
              "      <th></th>\n",
              "      <th>loss</th>\n",
              "      <th>mean_absolute_error</th>\n",
              "      <th>mean_squared_error</th>\n",
              "      <th>val_loss</th>\n",
              "      <th>val_mean_absolute_error</th>\n",
              "      <th>val_mean_squared_error</th>\n",
              "      <th>epoch</th>\n",
              "    </tr>\n",
              "  </thead>\n",
              "  <tbody>\n",
              "    <tr>\n",
              "      <th>7</th>\n",
              "      <td>2.941280e+10</td>\n",
              "      <td>2825.982178</td>\n",
              "      <td>2.940909e+10</td>\n",
              "      <td>1.513192e+06</td>\n",
              "      <td>607.556519</td>\n",
              "      <td>1513199.125</td>\n",
              "      <td>7</td>\n",
              "    </tr>\n",
              "    <tr>\n",
              "      <th>8</th>\n",
              "      <td>2.941269e+10</td>\n",
              "      <td>2823.465332</td>\n",
              "      <td>2.940903e+10</td>\n",
              "      <td>1.537554e+06</td>\n",
              "      <td>534.667664</td>\n",
              "      <td>1537550.375</td>\n",
              "      <td>8</td>\n",
              "    </tr>\n",
              "    <tr>\n",
              "      <th>9</th>\n",
              "      <td>2.941257e+10</td>\n",
              "      <td>2824.220947</td>\n",
              "      <td>2.940887e+10</td>\n",
              "      <td>1.514616e+06</td>\n",
              "      <td>567.306030</td>\n",
              "      <td>1514605.000</td>\n",
              "      <td>9</td>\n",
              "    </tr>\n",
              "    <tr>\n",
              "      <th>10</th>\n",
              "      <td>2.941243e+10</td>\n",
              "      <td>2825.684814</td>\n",
              "      <td>2.940864e+10</td>\n",
              "      <td>1.656868e+06</td>\n",
              "      <td>504.799896</td>\n",
              "      <td>1656860.875</td>\n",
              "      <td>10</td>\n",
              "    </tr>\n",
              "    <tr>\n",
              "      <th>11</th>\n",
              "      <td>2.941272e+10</td>\n",
              "      <td>2819.437500</td>\n",
              "      <td>2.940894e+10</td>\n",
              "      <td>1.579913e+06</td>\n",
              "      <td>552.639038</td>\n",
              "      <td>1579920.000</td>\n",
              "      <td>11</td>\n",
              "    </tr>\n",
              "  </tbody>\n",
              "</table>\n",
              "</div>"
            ],
            "text/plain": [
              "            loss  mean_absolute_error  ...  val_mean_squared_error  epoch\n",
              "7   2.941280e+10          2825.982178  ...             1513199.125      7\n",
              "8   2.941269e+10          2823.465332  ...             1537550.375      8\n",
              "9   2.941257e+10          2824.220947  ...             1514605.000      9\n",
              "10  2.941243e+10          2825.684814  ...             1656860.875     10\n",
              "11  2.941272e+10          2819.437500  ...             1579920.000     11\n",
              "\n",
              "[5 rows x 7 columns]"
            ]
          },
          "metadata": {
            "tags": []
          },
          "execution_count": 17
        }
      ]
    },
    {
      "cell_type": "code",
      "metadata": {
        "id": "FHGsnp0gZUL-",
        "colab_type": "code",
        "outputId": "5eef656e-2750-45ef-8844-f70e4130aa4b",
        "colab": {
          "base_uri": "https://localhost:8080/",
          "height": 50
        }
      },
      "source": [
        "loss, mae, mse = model.evaluate(test_data, test_labels, verbose=2)\n",
        "\n",
        "print(\"Testing set Mean Abs Error: {:5.2f} MPG\".format(mae))"
      ],
      "execution_count": 18,
      "outputs": [
        {
          "output_type": "stream",
          "text": [
            "6725131/6725131 - 310s - loss: 23509715635.1817 - mean_absolute_error: 2237.7983 - mean_squared_error: 23509225472.0000\n",
            "Testing set Mean Abs Error: 2237.80 MPG\n"
          ],
          "name": "stdout"
        }
      ]
    },
    {
      "cell_type": "code",
      "metadata": {
        "id": "gCXje3EKZZG3",
        "colab_type": "code",
        "colab": {}
      },
      "source": [
        "test_predictions = model.predict(test_data).flatten()"
      ],
      "execution_count": 0,
      "outputs": []
    },
    {
      "cell_type": "code",
      "metadata": {
        "id": "nTEv6mjYJfE5",
        "colab_type": "code",
        "colab": {
          "base_uri": "https://localhost:8080/",
          "height": 500
        },
        "outputId": "4ebf2562-923c-437c-e1bb-abb84a275da3"
      },
      "source": [
        "plt.hist(test_predictions, bins = 25)"
      ],
      "execution_count": 22,
      "outputs": [
        {
          "output_type": "execute_result",
          "data": {
            "text/plain": [
              "(array([6.410000e+02, 3.088600e+04, 3.993310e+05, 1.162886e+06,\n",
              "        1.510339e+06, 1.159932e+06, 7.895680e+05, 5.671200e+05,\n",
              "        3.964920e+05, 2.675060e+05, 1.737630e+05, 9.729200e+04,\n",
              "        5.024800e+04, 2.975700e+04, 2.284800e+04, 1.892700e+04,\n",
              "        1.745100e+04, 1.395000e+04, 7.630000e+03, 3.458000e+03,\n",
              "        2.439000e+03, 1.693000e+03, 6.930000e+02, 2.150000e+02,\n",
              "        6.600000e+01]),\n",
              " array([-1123.7432 ,  -873.62335,  -623.5036 ,  -373.38382,  -123.26402,\n",
              "          126.85576,   376.97556,   627.09534,   877.2151 ,  1127.335  ,\n",
              "         1377.4547 ,  1627.5745 ,  1877.6942 ,  2127.814  ,  2377.9338 ,\n",
              "         2628.0537 ,  2878.1733 ,  3128.2932 ,  3378.413  ,  3628.5327 ,\n",
              "         3878.6526 ,  4128.7725 ,  4378.892  ,  4629.0117 ,  4879.132  ,\n",
              "         5129.2515 ], dtype=float32),\n",
              " <a list of 25 Patch objects>)"
            ]
          },
          "metadata": {
            "tags": []
          },
          "execution_count": 22
        },
        {
          "output_type": "display_data",
          "data": {
            "image/png": "[encoded data removed]",
            "text/plain": [
              "<Figure size 432x288 with 1 Axes>"
            ]
          },
          "metadata": {
            "tags": []
          }
        }
      ]
    },
    {
      "cell_type": "code",
      "metadata": {
        "id": "rbAI4n-sZcmj",
        "colab_type": "code",
        "colab": {
          "base_uri": "https://localhost:8080/",
          "height": 283
        },
        "outputId": "8874d366-9f6f-42ab-8cf0-bc134bb3769f"
      },
      "source": [
        "a = plt.axes(aspect='equal')\n",
        "plt.scatter(test_labels, test_predictions)\n",
        "plt.xlabel('True Values [kWh]')\n",
        "plt.ylabel('Predictions [kWh]')\n",
        "lims = [-1000, 5000]\n",
        "plt.xlim(lims)\n",
        "plt.ylim(lims)\n",
        "_ = plt.plot(lims, lims)"
      ],
      "execution_count": 50,
      "outputs": [
        {
          "output_type": "display_data",
          "data": {
            "image/png": "[encoded data removed]",
            "text/plain": [
              "<Figure size 432x288 with 1 Axes>"
            ]
          },
          "metadata": {
            "tags": []
          }
        }
      ]
    },
    {
      "cell_type": "code",
      "metadata": {
        "id": "R-JMwuzWKIsn",
        "colab_type": "code",
        "colab": {
          "base_uri": "https://localhost:8080/",
          "height": 118
        },
        "outputId": "a68ad51e-c4fa-4c90-dd3a-358c1e0cd899"
      },
      "source": [
        "print(test_predictions.min())\n",
        "print(test_predictions.max())\n",
        "train_labels.sort_values()[-3:][::-1]"
      ],
      "execution_count": 40,
      "outputs": [
        {
          "output_type": "stream",
          "text": [
            "-1123.7432\n",
            "5129.2515\n"
          ],
          "name": "stdout"
        },
        {
          "output_type": "execute_result",
          "data": {
            "text/plain": [
              "9174815    21904700.0\n",
              "9174767    21889900.0\n",
              "9174766    21874500.0\n",
              "Name: meter_reading, dtype: float64"
            ]
          },
          "metadata": {
            "tags": []
          },
          "execution_count": 40
        }
      ]
    },
    {
      "cell_type": "code",
      "metadata": {
        "id": "WtJI-YouZjg3",
        "colab_type": "code",
        "colab": {
          "base_uri": "https://localhost:8080/",
          "height": 281
        },
        "outputId": "090fbdae-dfd6-40a4-f647-e1307bb62dac"
      },
      "source": [
        "error = test_predictions - test_labels\n",
        "plt.hist(error, bins = 25)\n",
        "plt.xlabel(\"Prediction Error [MPG]\")\n",
        "_ = plt.ylabel(\"Count\")"
      ],
      "execution_count": 26,
      "outputs": [
        {
          "output_type": "display_data",
          "data": {
            "image/png": "[encoded data removed]",
            "text/plain": [
              "<Figure size 432x288 with 1 Axes>"
            ]
          },
          "metadata": {
            "tags": []
          }
        }
      ]
    },
    {
      "cell_type": "code",
      "metadata": {
        "id": "KD0t6bK5O114",
        "colab_type": "code",
        "colab": {
          "base_uri": "https://localhost:8080/",
          "height": 34
        },
        "outputId": "29ab2bc0-6e7e-42d1-9403-6787d7a87977"
      },
      "source": [
        "np.sum(train_labels == 0)/len(train_labels)"
      ],
      "execution_count": 56,
      "outputs": [
        {
          "output_type": "execute_result",
          "data": {
            "text/plain": [
              "0.09260339933254083"
            ]
          },
          "metadata": {
            "tags": []
          },
          "execution_count": 56
        }
      ]
    },
    {
      "cell_type": "code",
      "metadata": {
        "id": "UvR5inW1Qc-6",
        "colab_type": "code",
        "colab": {}
      },
      "source": [
        ""
      ],
      "execution_count": 0,
      "outputs": []
    }
  ]
}